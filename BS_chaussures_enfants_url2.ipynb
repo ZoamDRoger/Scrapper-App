{
 "cells": [
  {
   "cell_type": "code",
   "execution_count": 6,
   "id": "ce3fd363-46e6-4740-954b-c115a8f44c4b",
   "metadata": {},
   "outputs": [],
   "source": [
    "# importer les packages \n",
    "import pandas as pd \n",
    "from requests import get \n",
    "from bs4 import BeautifulSoup as bs"
   ]
  },
  {
   "cell_type": "code",
   "execution_count": 7,
   "id": "f0bbdd7a-c30c-4297-8f6f-f84ff19c37bf",
   "metadata": {},
   "outputs": [
    {
     "data": {
      "text/plain": [
       "84"
      ]
     },
     "execution_count": 7,
     "metadata": {},
     "output_type": "execute_result"
    }
   ],
   "source": [
    "# url de la page \n",
    "url = 'https://sn.coinafrique.com/categorie/chaussures-enfants'\n",
    "res = get(url)\n",
    "soup = bs(res.text, 'html.parser')\n",
    "containers = soup.find_all('div', class_ ='col s6 m4 l3')\n",
    "len(containers)"
   ]
  },
  {
   "cell_type": "code",
   "execution_count": 14,
   "id": "25c86be5-5ff8-4d4e-8a5f-24c79c6bf891",
   "metadata": {},
   "outputs": [],
   "source": [
    "# scraper les données sur un container \n",
    "container = containers[0]\n",
    "type_chaussures = container.find('p', class_  ='ad__card-description').text.strip()\n",
    "\n",
    "prix = container.find('p', class_  =\"ad__card-price\").text.strip().replace('CFA', '').replace(' ','').replace(',','.')\n",
    "adresse=container.find('p',class_='ad__card-location').text.strip().replace('location_on','')\n",
    "img_link = container.find('a', class_ = 'card-image ad__card-image waves-block waves-light').img['src']\n",
    "\n"
   ]
  },
  {
   "cell_type": "code",
   "execution_count": 15,
   "id": "5823e7f5-30c3-4346-8f41-92e4be12eb8a",
   "metadata": {},
   "outputs": [],
   "source": [
    "# scraper les données sur une page \n",
    "data = []\n",
    "for container in containers: \n",
    "    try: \n",
    "    \n",
    "        type_chaussures = container.find('p', class_  ='ad__card-description').text.strip()\n",
    "        prix = container.find('p', class_  ='ad__card-price').text.strip().replace('CFA', '').replace(' ','')\n",
    "        adresse=container.find('p',class_='ad__card-location').text.strip().replace('location_on','')\n",
    "        img_link = container.find('a', class_ = 'card-image ad__card-image waves-block waves-light').img['src']\n",
    "      \n",
    "        dic = {\n",
    "            'type habits': type_habits, \n",
    "            'prix':prix, \n",
    "            'adresse':adresse,\n",
    "            'image lien': img_link \n",
    "        }\n",
    "        data.append(dic)\n",
    "    except: \n",
    "        pass\n",
    "\n",
    "DF = pd.DataFrame(data)"
   ]
  },
  {
   "cell_type": "code",
   "execution_count": 16,
   "id": "6f4abfa2-b338-40a5-9608-6ae049180861",
   "metadata": {},
   "outputs": [],
   "source": [
    "# scraper les données sur plusieurs \n",
    "df = pd.DataFrame()\n",
    "for i in range(1,9): \n",
    "    url = f'https://sn.coinafrique.com/categorie/chaussures-enfants?page={i}'\n",
    "    res = get(url)\n",
    "    soup = bs(res.text, 'html.parser')\n",
    "    containers = soup.find_all('div', class_ ='col s6 m4 l3')\n",
    "    # scraper les données sur une page \n",
    "    data = []\n",
    "    for container in containers: \n",
    "        try: \n",
    "            type_chaussures = container.find('p', class_  ='ad__card-description').text.strip()\n",
    "            prix = container.find('p', class_  ='ad__card-price').text.strip().replace('CFA', '')\n",
    "            adresse=container.find('p',class_='ad__card-location').text.strip().replace('location_on','')\n",
    "            img_link = container.find('a', class_ = 'card-image ad__card-image waves-block waves-light').img['src']\n",
    "        \n",
    "            dic = {\n",
    "            'type chaussures': type_chaussures, \n",
    "            'prix':prix, \n",
    "            'adresse':adresse,\n",
    "            'image lien': img_link \n",
    "            }\n",
    "            data.append(dic)\n",
    "        except: \n",
    "                pass\n",
    "    \n",
    "    DF = pd.DataFrame(data)\n",
    "    df = pd.concat([df,DF], axis = 0).reset_index(drop = True)"
   ]
  },
  {
   "cell_type": "code",
   "execution_count": 17,
   "id": "f5af564d-f7e6-4900-a73e-accffcb955b6",
   "metadata": {},
   "outputs": [
    {
     "data": {
      "text/plain": [
       "(627, 4)"
      ]
     },
     "execution_count": 17,
     "metadata": {},
     "output_type": "execute_result"
    }
   ],
   "source": [
    "df.shape"
   ]
  },
  {
   "cell_type": "code",
   "execution_count": 18,
   "id": "95360d9f-0c4f-4bfa-bd5e-b73cd011d11e",
   "metadata": {},
   "outputs": [
    {
     "data": {
      "text/html": [
       "<div>\n",
       "<style scoped>\n",
       "    .dataframe tbody tr th:only-of-type {\n",
       "        vertical-align: middle;\n",
       "    }\n",
       "\n",
       "    .dataframe tbody tr th {\n",
       "        vertical-align: top;\n",
       "    }\n",
       "\n",
       "    .dataframe thead th {\n",
       "        text-align: right;\n",
       "    }\n",
       "</style>\n",
       "<table border=\"1\" class=\"dataframe\">\n",
       "  <thead>\n",
       "    <tr style=\"text-align: right;\">\n",
       "      <th></th>\n",
       "      <th>type chaussures</th>\n",
       "      <th>prix</th>\n",
       "      <th>adresse</th>\n",
       "      <th>image lien</th>\n",
       "    </tr>\n",
       "  </thead>\n",
       "  <tbody>\n",
       "    <tr>\n",
       "      <th>0</th>\n",
       "      <td>Chaussures enfant</td>\n",
       "      <td>10000</td>\n",
       "      <td>Fass, Dakar, Sénégal</td>\n",
       "      <td>https://images.coinafrique.com/thumb_5181147_u...</td>\n",
       "    </tr>\n",
       "    <tr>\n",
       "      <th>1</th>\n",
       "      <td>Chaussures enfant</td>\n",
       "      <td>8500</td>\n",
       "      <td>Fass, Dakar, Sénégal</td>\n",
       "      <td>https://images.coinafrique.com/thumb_5181134_u...</td>\n",
       "    </tr>\n",
       "    <tr>\n",
       "      <th>2</th>\n",
       "      <td>Chaussures enfant</td>\n",
       "      <td>7000</td>\n",
       "      <td>Fass, Dakar, Sénégal</td>\n",
       "      <td>https://images.coinafrique.com/thumb_5181139_u...</td>\n",
       "    </tr>\n",
       "    <tr>\n",
       "      <th>3</th>\n",
       "      <td>Ballerines enfants</td>\n",
       "      <td>12000</td>\n",
       "      <td>Dakar, Sénégal</td>\n",
       "      <td>https://images.coinafrique.com/thumb_5141832_u...</td>\n",
       "    </tr>\n",
       "    <tr>\n",
       "      <th>4</th>\n",
       "      <td>Chaussures enfants</td>\n",
       "      <td>2000</td>\n",
       "      <td>Dakar Plateau, Dakar, Sénégal</td>\n",
       "      <td>https://images.coinafrique.com/thumb_5125946_u...</td>\n",
       "    </tr>\n",
       "    <tr>\n",
       "      <th>5</th>\n",
       "      <td>Baskets enfant</td>\n",
       "      <td>3500</td>\n",
       "      <td>Parcelle Assainies, Dakar, Sénégal</td>\n",
       "      <td>https://images.coinafrique.com/thumb_5080430_u...</td>\n",
       "    </tr>\n",
       "    <tr>\n",
       "      <th>6</th>\n",
       "      <td>Basket</td>\n",
       "      <td>5000</td>\n",
       "      <td>Parcelle Assainies, Dakar, Sénégal</td>\n",
       "      <td>https://images.coinafrique.com/thumb_5080428_u...</td>\n",
       "    </tr>\n",
       "    <tr>\n",
       "      <th>7</th>\n",
       "      <td>Claquettes</td>\n",
       "      <td>8450</td>\n",
       "      <td>Fass, Dakar, Sénégal</td>\n",
       "      <td>https://images.coinafrique.com/thumb_5047806_u...</td>\n",
       "    </tr>\n",
       "    <tr>\n",
       "      <th>8</th>\n",
       "      <td>Ensemble chaussures et chaussettes pour bebe</td>\n",
       "      <td>1800</td>\n",
       "      <td>Dakar Plateau, Dakar, Sénégal</td>\n",
       "      <td>https://images.coinafrique.com/thumb_5037805_u...</td>\n",
       "    </tr>\n",
       "    <tr>\n",
       "      <th>9</th>\n",
       "      <td>Ballerines enfants</td>\n",
       "      <td>Prixsurdemande</td>\n",
       "      <td>Dakar, Sénégal</td>\n",
       "      <td>https://images.coinafrique.com/thumb_5002639_u...</td>\n",
       "    </tr>\n",
       "  </tbody>\n",
       "</table>\n",
       "</div>"
      ],
      "text/plain": [
       "                                type chaussures            prix  \\\n",
       "0                             Chaussures enfant           10000   \n",
       "1                             Chaussures enfant            8500   \n",
       "2                             Chaussures enfant            7000   \n",
       "3                            Ballerines enfants           12000   \n",
       "4                            Chaussures enfants            2000   \n",
       "5                                Baskets enfant            3500   \n",
       "6                                        Basket            5000   \n",
       "7                                    Claquettes            8450   \n",
       "8  Ensemble chaussures et chaussettes pour bebe            1800   \n",
       "9                            Ballerines enfants  Prixsurdemande   \n",
       "\n",
       "                              adresse  \\\n",
       "0                Fass, Dakar, Sénégal   \n",
       "1                Fass, Dakar, Sénégal   \n",
       "2                Fass, Dakar, Sénégal   \n",
       "3                      Dakar, Sénégal   \n",
       "4       Dakar Plateau, Dakar, Sénégal   \n",
       "5  Parcelle Assainies, Dakar, Sénégal   \n",
       "6  Parcelle Assainies, Dakar, Sénégal   \n",
       "7                Fass, Dakar, Sénégal   \n",
       "8       Dakar Plateau, Dakar, Sénégal   \n",
       "9                      Dakar, Sénégal   \n",
       "\n",
       "                                          image lien  \n",
       "0  https://images.coinafrique.com/thumb_5181147_u...  \n",
       "1  https://images.coinafrique.com/thumb_5181134_u...  \n",
       "2  https://images.coinafrique.com/thumb_5181139_u...  \n",
       "3  https://images.coinafrique.com/thumb_5141832_u...  \n",
       "4  https://images.coinafrique.com/thumb_5125946_u...  \n",
       "5  https://images.coinafrique.com/thumb_5080430_u...  \n",
       "6  https://images.coinafrique.com/thumb_5080428_u...  \n",
       "7  https://images.coinafrique.com/thumb_5047806_u...  \n",
       "8  https://images.coinafrique.com/thumb_5037805_u...  \n",
       "9  https://images.coinafrique.com/thumb_5002639_u...  "
      ]
     },
     "execution_count": 18,
     "metadata": {},
     "output_type": "execute_result"
    }
   ],
   "source": [
    "df.head(10)"
   ]
  },
  {
   "cell_type": "code",
   "execution_count": 8,
   "id": "cac87273-6907-40e7-9f75-ebe20d40f31e",
   "metadata": {},
   "outputs": [
    {
     "data": {
      "text/plain": [
       "type chaussures    0\n",
       "prix               0\n",
       "adresse            0\n",
       "image lien         0\n",
       "dtype: int64"
      ]
     },
     "execution_count": 8,
     "metadata": {},
     "output_type": "execute_result"
    }
   ],
   "source": [
    "df.isnull().sum()"
   ]
  },
  {
   "cell_type": "code",
   "execution_count": 8,
   "id": "424ae636-9a82-46dc-b28e-4f9b4126fb3b",
   "metadata": {},
   "outputs": [
    {
     "data": {
      "text/plain": [
       "type chaussures     object\n",
       "prix               float64\n",
       "adresse             object\n",
       "image lien          object\n",
       "dtype: object"
      ]
     },
     "execution_count": 8,
     "metadata": {},
     "output_type": "execute_result"
    }
   ],
   "source": [
    "df['prix'] = pd.to_numeric(df['prix'], errors='coerce')#conversion de 'prix sur demande' en float\n",
    "df.prix=df.prix.astype('float64')\n",
    "df.dtypes"
   ]
  },
  {
   "cell_type": "code",
   "execution_count": 12,
   "id": "565d54f5-b6e1-4e49-986e-7225aac897af",
   "metadata": {},
   "outputs": [
    {
     "name": "stderr",
     "output_type": "stream",
     "text": [
      "C:\\Users\\USER\\AppData\\Local\\Temp\\ipykernel_1076\\4008989335.py:3: FutureWarning: A value is trying to be set on a copy of a DataFrame or Series through chained assignment using an inplace method.\n",
      "The behavior will change in pandas 3.0. This inplace method will never work because the intermediate object on which we are setting values always behaves as a copy.\n",
      "\n",
      "For example, when doing 'df[col].method(value, inplace=True)', try using 'df.method({col: value}, inplace=True)' or df[col] = df[col].method(value) instead, to perform the operation inplace on the original object.\n",
      "\n",
      "\n",
      "  df[col].fillna(df[col].median(),inplace=True)\n"
     ]
    },
    {
     "data": {
      "text/plain": [
       "type chaussures    0\n",
       "prix               0\n",
       "adresse            0\n",
       "image lien         0\n",
       "dtype: int64"
      ]
     },
     "execution_count": 12,
     "metadata": {},
     "output_type": "execute_result"
    }
   ],
   "source": [
    "for col in df.columns:\n",
    "    if df[col].dtypes == 'float':\n",
    "        df[col].fillna(df[col].median(),inplace=True)\n",
    "\n",
    "df.isnull().sum()"
   ]
  },
  {
   "cell_type": "code",
   "execution_count": 14,
   "id": "74170f9e-c491-44e6-90bd-1900d7413696",
   "metadata": {},
   "outputs": [
    {
     "data": {
      "text/plain": [
       "np.int64(0)"
      ]
     },
     "execution_count": 14,
     "metadata": {},
     "output_type": "execute_result"
    }
   ],
   "source": [
    "df.duplicated().sum()"
   ]
  },
  {
   "cell_type": "code",
   "execution_count": 13,
   "id": "26309570-8875-43e8-b43d-85747eebab7a",
   "metadata": {},
   "outputs": [],
   "source": [
    "df.to_csv('chaussures_enfants_url2.csv', index=False)"
   ]
  },
  {
   "cell_type": "code",
   "execution_count": null,
   "id": "0d72b986-13e6-4b57-8c06-686f6ff50a7e",
   "metadata": {},
   "outputs": [],
   "source": []
  }
 ],
 "metadata": {
  "kernelspec": {
   "display_name": "Python 3 (ipykernel)",
   "language": "python",
   "name": "python3"
  },
  "language_info": {
   "codemirror_mode": {
    "name": "ipython",
    "version": 3
   },
   "file_extension": ".py",
   "mimetype": "text/x-python",
   "name": "python",
   "nbconvert_exporter": "python",
   "pygments_lexer": "ipython3",
   "version": "3.12.5"
  }
 },
 "nbformat": 4,
 "nbformat_minor": 5
}
