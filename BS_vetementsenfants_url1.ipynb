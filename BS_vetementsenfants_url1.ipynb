{
 "cells": [
  {
   "cell_type": "code",
   "execution_count": 2,
   "id": "352bb162-6075-481e-9710-6296a9ac75d4",
   "metadata": {},
   "outputs": [],
   "source": [
    "# importer les packages \n",
    "import pandas as pd \n",
    "from requests import get \n",
    "from bs4 import BeautifulSoup as bs"
   ]
  },
  {
   "cell_type": "code",
   "execution_count": 5,
   "id": "79aeb01e-30b7-4476-bd85-ca944fc5c2f1",
   "metadata": {},
   "outputs": [
    {
     "data": {
      "text/plain": [
       "84"
      ]
     },
     "execution_count": 5,
     "metadata": {},
     "output_type": "execute_result"
    }
   ],
   "source": [
    "# url de la page \n",
    "url = 'https://sn.coinafrique.com/categorie/chaussures-enfants'\n",
    "res = get(url)\n",
    "soup = bs(res.text, 'html.parser')\n",
    "containers = soup.find_all('div', class_ ='col s6 m4 l3')\n",
    "len(containers)"
   ]
  },
  {
   "cell_type": "code",
   "execution_count": 6,
   "id": "39e46c39-ad1c-4328-b569-747128387361",
   "metadata": {},
   "outputs": [],
   "source": [
    "# scraper les données sur un container \n",
    "container = containers[0]\n",
    "type_habits = container.find('p', class_  ='ad__card-description').text.strip()\n",
    "prix = container.find('p', class_  ='ad__card-price').text.strip().replace('CFA', '').replace(' ','')\n",
    "adresse=container.find('p',class_='ad__card-location').text.strip().replace('location_on','')\n",
    "img_link = container.find('a', class_ = 'card-image ad__card-image waves-block waves-light').img['src']\n"
   ]
  },
  {
   "cell_type": "code",
   "execution_count": 7,
   "id": "2b2e4ff8-97a8-454d-b838-54ce8df3ff7d",
   "metadata": {},
   "outputs": [],
   "source": [
    "# scraper les données sur une page \n",
    "data = []\n",
    "for container in containers: \n",
    "    try: \n",
    "    \n",
    "        type_habits = container.find('p', class_  ='ad__card-description').text.strip()\n",
    "        prix = container.find('p', class_  ='ad__card-price').text.strip().replace('CFA', '').replace(' ','')\n",
    "        adresse=container.find('p',class_='ad__card-location').text.strip().replace('location_on','')\n",
    "        img_link = container.find('a', class_ = 'card-image ad__card-image waves-block waves-light').img['src']\n",
    "      \n",
    "        dic = {\n",
    "            'type habits': type_habits, \n",
    "            'prix':prix, \n",
    "            'adresse':adresse,\n",
    "            'image lien': img_link \n",
    "        }\n",
    "        data.append(dic)\n",
    "    except: \n",
    "        pass\n",
    "\n",
    "DF = pd.DataFrame(data)"
   ]
  },
  {
   "cell_type": "code",
   "execution_count": 8,
   "id": "549d160d-5931-44bd-938f-1ca96d601395",
   "metadata": {},
   "outputs": [
    {
     "data": {
      "text/html": [
       "<div>\n",
       "<style scoped>\n",
       "    .dataframe tbody tr th:only-of-type {\n",
       "        vertical-align: middle;\n",
       "    }\n",
       "\n",
       "    .dataframe tbody tr th {\n",
       "        vertical-align: top;\n",
       "    }\n",
       "\n",
       "    .dataframe thead th {\n",
       "        text-align: right;\n",
       "    }\n",
       "</style>\n",
       "<table border=\"1\" class=\"dataframe\">\n",
       "  <thead>\n",
       "    <tr style=\"text-align: right;\">\n",
       "      <th></th>\n",
       "      <th>type habits</th>\n",
       "      <th>prix</th>\n",
       "      <th>adresse</th>\n",
       "      <th>image lien</th>\n",
       "    </tr>\n",
       "  </thead>\n",
       "  <tbody>\n",
       "    <tr>\n",
       "      <th>0</th>\n",
       "      <td>Chaussures enfant</td>\n",
       "      <td>10000</td>\n",
       "      <td>Fass, Dakar, Sénégal</td>\n",
       "      <td>https://images.coinafrique.com/thumb_5181147_u...</td>\n",
       "    </tr>\n",
       "    <tr>\n",
       "      <th>1</th>\n",
       "      <td>Chaussures enfant</td>\n",
       "      <td>8500</td>\n",
       "      <td>Fass, Dakar, Sénégal</td>\n",
       "      <td>https://images.coinafrique.com/thumb_5181134_u...</td>\n",
       "    </tr>\n",
       "    <tr>\n",
       "      <th>2</th>\n",
       "      <td>Chaussures enfant</td>\n",
       "      <td>7000</td>\n",
       "      <td>Fass, Dakar, Sénégal</td>\n",
       "      <td>https://images.coinafrique.com/thumb_5181139_u...</td>\n",
       "    </tr>\n",
       "    <tr>\n",
       "      <th>3</th>\n",
       "      <td>Ballerines enfants</td>\n",
       "      <td>12000</td>\n",
       "      <td>Dakar, Sénégal</td>\n",
       "      <td>https://images.coinafrique.com/thumb_5141832_u...</td>\n",
       "    </tr>\n",
       "    <tr>\n",
       "      <th>4</th>\n",
       "      <td>Chaussures enfants</td>\n",
       "      <td>2000</td>\n",
       "      <td>Dakar Plateau, Dakar, Sénégal</td>\n",
       "      <td>https://images.coinafrique.com/thumb_5125946_u...</td>\n",
       "    </tr>\n",
       "    <tr>\n",
       "      <th>5</th>\n",
       "      <td>Baskets enfant</td>\n",
       "      <td>3500</td>\n",
       "      <td>Parcelle Assainies, Dakar, Sénégal</td>\n",
       "      <td>https://images.coinafrique.com/thumb_5080430_u...</td>\n",
       "    </tr>\n",
       "    <tr>\n",
       "      <th>6</th>\n",
       "      <td>Basket</td>\n",
       "      <td>5000</td>\n",
       "      <td>Parcelle Assainies, Dakar, Sénégal</td>\n",
       "      <td>https://images.coinafrique.com/thumb_5080428_u...</td>\n",
       "    </tr>\n",
       "    <tr>\n",
       "      <th>7</th>\n",
       "      <td>Claquettes</td>\n",
       "      <td>8450</td>\n",
       "      <td>Fass, Dakar, Sénégal</td>\n",
       "      <td>https://images.coinafrique.com/thumb_5047806_u...</td>\n",
       "    </tr>\n",
       "    <tr>\n",
       "      <th>8</th>\n",
       "      <td>Ensemble chaussures et chaussettes pour bebe</td>\n",
       "      <td>1800</td>\n",
       "      <td>Dakar Plateau, Dakar, Sénégal</td>\n",
       "      <td>https://images.coinafrique.com/thumb_5037805_u...</td>\n",
       "    </tr>\n",
       "    <tr>\n",
       "      <th>9</th>\n",
       "      <td>Ballerines enfants</td>\n",
       "      <td>Prixsurdemande</td>\n",
       "      <td>Dakar, Sénégal</td>\n",
       "      <td>https://images.coinafrique.com/thumb_5002639_u...</td>\n",
       "    </tr>\n",
       "  </tbody>\n",
       "</table>\n",
       "</div>"
      ],
      "text/plain": [
       "                                    type habits            prix  \\\n",
       "0                             Chaussures enfant           10000   \n",
       "1                             Chaussures enfant            8500   \n",
       "2                             Chaussures enfant            7000   \n",
       "3                            Ballerines enfants           12000   \n",
       "4                            Chaussures enfants            2000   \n",
       "5                                Baskets enfant            3500   \n",
       "6                                        Basket            5000   \n",
       "7                                    Claquettes            8450   \n",
       "8  Ensemble chaussures et chaussettes pour bebe            1800   \n",
       "9                            Ballerines enfants  Prixsurdemande   \n",
       "\n",
       "                              adresse  \\\n",
       "0                Fass, Dakar, Sénégal   \n",
       "1                Fass, Dakar, Sénégal   \n",
       "2                Fass, Dakar, Sénégal   \n",
       "3                      Dakar, Sénégal   \n",
       "4       Dakar Plateau, Dakar, Sénégal   \n",
       "5  Parcelle Assainies, Dakar, Sénégal   \n",
       "6  Parcelle Assainies, Dakar, Sénégal   \n",
       "7                Fass, Dakar, Sénégal   \n",
       "8       Dakar Plateau, Dakar, Sénégal   \n",
       "9                      Dakar, Sénégal   \n",
       "\n",
       "                                          image lien  \n",
       "0  https://images.coinafrique.com/thumb_5181147_u...  \n",
       "1  https://images.coinafrique.com/thumb_5181134_u...  \n",
       "2  https://images.coinafrique.com/thumb_5181139_u...  \n",
       "3  https://images.coinafrique.com/thumb_5141832_u...  \n",
       "4  https://images.coinafrique.com/thumb_5125946_u...  \n",
       "5  https://images.coinafrique.com/thumb_5080430_u...  \n",
       "6  https://images.coinafrique.com/thumb_5080428_u...  \n",
       "7  https://images.coinafrique.com/thumb_5047806_u...  \n",
       "8  https://images.coinafrique.com/thumb_5037805_u...  \n",
       "9  https://images.coinafrique.com/thumb_5002639_u...  "
      ]
     },
     "execution_count": 8,
     "metadata": {},
     "output_type": "execute_result"
    }
   ],
   "source": [
    "DF.head(10)"
   ]
  },
  {
   "cell_type": "code",
   "execution_count": 9,
   "id": "7c7f4511-36c7-4360-a91a-927e4f46691b",
   "metadata": {},
   "outputs": [],
   "source": [
    "# scraper les données sur plusieurs \n",
    "df = pd.DataFrame()\n",
    "for i in range(1,22): \n",
    "    url = f'https://sn.coinafrique.com/categorie/vetements-enfants?page={i}'\n",
    "    res = get(url)\n",
    "    soup = bs(res.text, 'html.parser')\n",
    "    containers = soup.find_all('div', class_ ='col s6 m4 l3')\n",
    "    # scraper les données sur une page \n",
    "    data = []\n",
    "    for container in containers: \n",
    "        try: \n",
    "            type_habits = container.find('p', class_  ='ad__card-description').text.strip()\n",
    "            prix = container.find('p', class_  ='ad__card-price').text.strip().replace('CFA', '').replace(' ','')\n",
    "            adresse=container.find('p',class_='ad__card-location').text.strip().replace('location_on','')\n",
    "            img_link = container.find('a', class_ = 'card-image ad__card-image waves-block waves-light').img['src']\n",
    "        \n",
    "            dic = {\n",
    "            'type habits': type_habits, \n",
    "            'prix':prix, \n",
    "            'adresse':adresse,\n",
    "            'img_link': img_link \n",
    "            }\n",
    "            data.append(dic)\n",
    "        except: \n",
    "                pass\n",
    "    \n",
    "    DF = pd.DataFrame(data)\n",
    "    df = pd.concat([df,DF], axis = 0).reset_index(drop = True)"
   ]
  },
  {
   "cell_type": "code",
   "execution_count": 10,
   "id": "4585bc3b-e553-4068-ba1e-6d031c1d0e41",
   "metadata": {},
   "outputs": [
    {
     "data": {
      "text/plain": [
       "(1720, 4)"
      ]
     },
     "execution_count": 10,
     "metadata": {},
     "output_type": "execute_result"
    }
   ],
   "source": [
    "df.shape"
   ]
  },
  {
   "cell_type": "code",
   "execution_count": 11,
   "id": "8409276a-341c-4f62-b2d7-49c0717f99cc",
   "metadata": {},
   "outputs": [
    {
     "data": {
      "text/html": [
       "<div>\n",
       "<style scoped>\n",
       "    .dataframe tbody tr th:only-of-type {\n",
       "        vertical-align: middle;\n",
       "    }\n",
       "\n",
       "    .dataframe tbody tr th {\n",
       "        vertical-align: top;\n",
       "    }\n",
       "\n",
       "    .dataframe thead th {\n",
       "        text-align: right;\n",
       "    }\n",
       "</style>\n",
       "<table border=\"1\" class=\"dataframe\">\n",
       "  <thead>\n",
       "    <tr style=\"text-align: right;\">\n",
       "      <th></th>\n",
       "      <th>type habits</th>\n",
       "      <th>prix</th>\n",
       "      <th>adresse</th>\n",
       "      <th>img_link</th>\n",
       "    </tr>\n",
       "  </thead>\n",
       "  <tbody>\n",
       "    <tr>\n",
       "      <th>0</th>\n",
       "      <td>Djialabé enfant</td>\n",
       "      <td>8000</td>\n",
       "      <td>Parcelle Assainies, Dakar, Sénégal</td>\n",
       "      <td>https://images.coinafrique.com/thumb_5196620_u...</td>\n",
       "    </tr>\n",
       "    <tr>\n",
       "      <th>1</th>\n",
       "      <td>Djialap pour enfant de 4ans jusqua 18ans</td>\n",
       "      <td>6500</td>\n",
       "      <td>Colobane, Dakar, Sénégal</td>\n",
       "      <td>https://images.coinafrique.com/thumb_5181431_u...</td>\n",
       "    </tr>\n",
       "    <tr>\n",
       "      <th>2</th>\n",
       "      <td>Dialabé enfant</td>\n",
       "      <td>10000</td>\n",
       "      <td>Fass, Dakar, Sénégal</td>\n",
       "      <td>https://images.coinafrique.com/thumb_5181204_u...</td>\n",
       "    </tr>\n",
       "    <tr>\n",
       "      <th>3</th>\n",
       "      <td>Vetement  enfants</td>\n",
       "      <td>8500</td>\n",
       "      <td>Fass, Dakar, Sénégal</td>\n",
       "      <td>https://images.coinafrique.com/thumb_5193655_u...</td>\n",
       "    </tr>\n",
       "    <tr>\n",
       "      <th>4</th>\n",
       "      <td>Veste doudoune</td>\n",
       "      <td>2500</td>\n",
       "      <td>Yoff, Dakar, Sénégal</td>\n",
       "      <td>https://images.coinafrique.com/thumb_5187259_u...</td>\n",
       "    </tr>\n",
       "    <tr>\n",
       "      <th>5</th>\n",
       "      <td>Ensemble mardi gras</td>\n",
       "      <td>8000</td>\n",
       "      <td>Dakar Plateau, Dakar, Sénégal</td>\n",
       "      <td>https://images.coinafrique.com/thumb_5171755_u...</td>\n",
       "    </tr>\n",
       "    <tr>\n",
       "      <th>6</th>\n",
       "      <td>Ensemble pour enfant de 1ans jusqua 15ans</td>\n",
       "      <td>7000</td>\n",
       "      <td>Colobane, Dakar, Sénégal</td>\n",
       "      <td>https://images.coinafrique.com/thumb_5116396_u...</td>\n",
       "    </tr>\n",
       "    <tr>\n",
       "      <th>7</th>\n",
       "      <td>Vêtement enfant</td>\n",
       "      <td>1000</td>\n",
       "      <td>Sicap foire, Dakar, Sénégal</td>\n",
       "      <td>https://images.coinafrique.com/thumb_5141487_u...</td>\n",
       "    </tr>\n",
       "    <tr>\n",
       "      <th>8</th>\n",
       "      <td>Vêtements enfants</td>\n",
       "      <td>4500</td>\n",
       "      <td>Mbao, Dakar, Sénégal</td>\n",
       "      <td>https://images.coinafrique.com/thumb_5130020_u...</td>\n",
       "    </tr>\n",
       "    <tr>\n",
       "      <th>9</th>\n",
       "      <td>Vêtements enfants</td>\n",
       "      <td>4500</td>\n",
       "      <td>Mbao, Dakar, Sénégal</td>\n",
       "      <td>https://images.coinafrique.com/thumb_5129146_u...</td>\n",
       "    </tr>\n",
       "  </tbody>\n",
       "</table>\n",
       "</div>"
      ],
      "text/plain": [
       "                                 type habits   prix  \\\n",
       "0                            Djialabé enfant   8000   \n",
       "1   Djialap pour enfant de 4ans jusqua 18ans   6500   \n",
       "2                             Dialabé enfant  10000   \n",
       "3                          Vetement  enfants   8500   \n",
       "4                             Veste doudoune   2500   \n",
       "5                        Ensemble mardi gras   8000   \n",
       "6  Ensemble pour enfant de 1ans jusqua 15ans   7000   \n",
       "7                            Vêtement enfant   1000   \n",
       "8                          Vêtements enfants   4500   \n",
       "9                          Vêtements enfants   4500   \n",
       "\n",
       "                              adresse  \\\n",
       "0  Parcelle Assainies, Dakar, Sénégal   \n",
       "1            Colobane, Dakar, Sénégal   \n",
       "2                Fass, Dakar, Sénégal   \n",
       "3                Fass, Dakar, Sénégal   \n",
       "4                Yoff, Dakar, Sénégal   \n",
       "5       Dakar Plateau, Dakar, Sénégal   \n",
       "6            Colobane, Dakar, Sénégal   \n",
       "7         Sicap foire, Dakar, Sénégal   \n",
       "8                Mbao, Dakar, Sénégal   \n",
       "9                Mbao, Dakar, Sénégal   \n",
       "\n",
       "                                            img_link  \n",
       "0  https://images.coinafrique.com/thumb_5196620_u...  \n",
       "1  https://images.coinafrique.com/thumb_5181431_u...  \n",
       "2  https://images.coinafrique.com/thumb_5181204_u...  \n",
       "3  https://images.coinafrique.com/thumb_5193655_u...  \n",
       "4  https://images.coinafrique.com/thumb_5187259_u...  \n",
       "5  https://images.coinafrique.com/thumb_5171755_u...  \n",
       "6  https://images.coinafrique.com/thumb_5116396_u...  \n",
       "7  https://images.coinafrique.com/thumb_5141487_u...  \n",
       "8  https://images.coinafrique.com/thumb_5130020_u...  \n",
       "9  https://images.coinafrique.com/thumb_5129146_u...  "
      ]
     },
     "execution_count": 11,
     "metadata": {},
     "output_type": "execute_result"
    }
   ],
   "source": [
    "df.head(10)"
   ]
  },
  {
   "cell_type": "code",
   "execution_count": 13,
   "id": "399a156f-e357-4652-8c23-0b4e98aa9dc2",
   "metadata": {},
   "outputs": [
    {
     "data": {
      "text/plain": [
       "type habits      0\n",
       "prix           469\n",
       "adresse          0\n",
       "img_link         0\n",
       "dtype: int64"
      ]
     },
     "execution_count": 13,
     "metadata": {},
     "output_type": "execute_result"
    }
   ],
   "source": [
    "df.isnull().sum()"
   ]
  },
  {
   "cell_type": "code",
   "execution_count": 14,
   "id": "7bf4e2ee-cd17-4e4c-9d4e-fecea7f57a72",
   "metadata": {},
   "outputs": [
    {
     "data": {
      "text/plain": [
       "type habits     object\n",
       "prix           float64\n",
       "adresse         object\n",
       "img_link        object\n",
       "dtype: object"
      ]
     },
     "execution_count": 14,
     "metadata": {},
     "output_type": "execute_result"
    }
   ],
   "source": [
    "df['prix'] = pd.to_numeric(df['prix'], errors='coerce')\n",
    "df.prix=df.prix.astype('float64')\n",
    "df.dtypes"
   ]
  },
  {
   "cell_type": "code",
   "execution_count": 18,
   "id": "87b897bf-40dd-41f1-b89e-9e96316908e8",
   "metadata": {},
   "outputs": [
    {
     "name": "stderr",
     "output_type": "stream",
     "text": [
      "C:\\Users\\USER\\AppData\\Local\\Temp\\ipykernel_4356\\4008989335.py:3: FutureWarning: A value is trying to be set on a copy of a DataFrame or Series through chained assignment using an inplace method.\n",
      "The behavior will change in pandas 3.0. This inplace method will never work because the intermediate object on which we are setting values always behaves as a copy.\n",
      "\n",
      "For example, when doing 'df[col].method(value, inplace=True)', try using 'df.method({col: value}, inplace=True)' or df[col] = df[col].method(value) instead, to perform the operation inplace on the original object.\n",
      "\n",
      "\n",
      "  df[col].fillna(df[col].median(),inplace=True)\n"
     ]
    },
    {
     "data": {
      "text/plain": [
       "type habits    0\n",
       "prix           0\n",
       "adresse        0\n",
       "img_link       0\n",
       "dtype: int64"
      ]
     },
     "execution_count": 18,
     "metadata": {},
     "output_type": "execute_result"
    }
   ],
   "source": [
    "for col in df.columns:\n",
    "    if df[col].dtypes == 'float':\n",
    "        df[col].fillna(df[col].median(),inplace=True)\n",
    "\n",
    "df.isnull().sum()"
   ]
  },
  {
   "cell_type": "code",
   "execution_count": 20,
   "id": "258f1157-aaed-433b-a8b2-5a718a29b5b0",
   "metadata": {},
   "outputs": [
    {
     "data": {
      "text/plain": [
       "np.int64(0)"
      ]
     },
     "execution_count": 20,
     "metadata": {},
     "output_type": "execute_result"
    }
   ],
   "source": [
    "df.duplicated().sum()"
   ]
  },
  {
   "cell_type": "code",
   "execution_count": 19,
   "id": "1a364fda-4012-4644-bd05-f34af408c104",
   "metadata": {},
   "outputs": [],
   "source": [
    "df.to_csv('vetments_enfants_url1.csv', index=False)\n"
   ]
  },
  {
   "cell_type": "code",
   "execution_count": null,
   "id": "cb684425-a05a-4206-b2a0-8b48599c339f",
   "metadata": {},
   "outputs": [],
   "source": []
  }
 ],
 "metadata": {
  "kernelspec": {
   "display_name": "Python 3 (ipykernel)",
   "language": "python",
   "name": "python3"
  },
  "language_info": {
   "codemirror_mode": {
    "name": "ipython",
    "version": 3
   },
   "file_extension": ".py",
   "mimetype": "text/x-python",
   "name": "python",
   "nbconvert_exporter": "python",
   "pygments_lexer": "ipython3",
   "version": "3.12.5"
  }
 },
 "nbformat": 4,
 "nbformat_minor": 5
}
